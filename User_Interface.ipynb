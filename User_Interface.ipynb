{
 "cells": [
  {
   "cell_type": "markdown",
   "id": "444af889",
   "metadata": {},
   "source": [
    "# User Interface for robot simulation"
   ]
  },
  {
   "cell_type": "markdown",
   "id": "b13fa64a",
   "metadata": {},
   "source": [
    " ## This is the second assignment of Research Track 2"
   ]
  },
  {
   "cell_type": "markdown",
   "id": "9b22f07b",
   "metadata": {},
   "source": [
    " Import necessary modules"
   ]
  },
  {
   "cell_type": "code",
   "execution_count": 1,
   "id": "182422a0",
   "metadata": {},
   "outputs": [],
   "source": [
    "import rospy\n",
    "import actionlib\n",
    "import matplotlib.pyplot as plt\n",
    "from matplotlib.animation import FuncAnimation\n",
    "import numpy as np\n",
    "from assignment_2_2023.msg import pos, PlanningAction, PlanningGoal\n",
    "from geometry_msgs.msg import Point\n",
    "from nav_msgs.msg import Odometry\n",
    "from std_srvs.srv import Empty\n",
    "from ipywidgets import interact, widgets\n",
    "from IPython.display import display\n",
    "from actionlib_msgs.msg import GoalStatus\n",
    "\n",
    "%matplotlib widget"
   ]
  },
  {
   "cell_type": "markdown",
   "id": "7270bc41",
   "metadata": {},
   "source": [
    "Class for visualization"
   ]
  },
  {
   "cell_type": "code",
   "execution_count": 2,
   "id": "0a60aa04",
   "metadata": {},
   "outputs": [],
   "source": [
    "class Visualiser:\n",
    "    def __init__(self):\n",
    "        # Initialize figure with two subplots\n",
    "        self.fig, (self.ax1, self.ax2) = plt.subplots(1, 2)\n",
    "        # Initialize for plotting robot position\n",
    "        self.robot_ln, = self.ax1.plot([], [], 'ro', label='Robot')\n",
    "        self.current_target_ln, = self.ax1.plot([], [], 'bx', label='Current Target')\n",
    "        self.reached_targets_ln, = self.ax1.plot([], [], 'gx', label='Reached Targets')\n",
    "        # Data for robot position and target position\n",
    "        self.x_data, self.y_data = [], []\n",
    "        self.target_x, self.target_y = None, None\n",
    "        self.reached_targets_positions =[]\n",
    "\n",
    "        # Initialize for plotting target status\n",
    "        self.reached_targets = 0\n",
    "        self.unreached_targets = 0\n",
    "        bars = self.ax2.bar(['Reached', 'Not Reached'], [self.reached_targets, self.unreached_targets])\n",
    "        self.reached_bar = bars[0]\n",
    "        self.unreached_bar = bars[1]\n",
    "        \n",
    "    def plot_init(self):\n",
    "        # Initialize for plotting robot position\n",
    "        self.ax1.set_title('Robot Position and Target')\n",
    "        self.ax1.set_xlabel('X')\n",
    "        self.ax1.set_ylabel('Y')\n",
    "        self.ax1.set_xlim(-10, 10)\n",
    "        self.ax1.set_ylim(-10, 10)\n",
    "        self.ax1.legend()\n",
    "        # Initialize for plotting target status\n",
    "        self.ax2.set_title('Targets Status')\n",
    "        self.ax2.set_ylim(0, 10)\n",
    "\n",
    "    def show(self):\n",
    "        plt.show()"
   ]
  },
  {
   "cell_type": "markdown",
   "id": "4715feb1",
   "metadata": {},
   "source": [
    "Class for action client"
   ]
  },
  {
   "cell_type": "code",
   "execution_count": 3,
   "id": "1d0fb684",
   "metadata": {},
   "outputs": [],
   "source": [
    "class ActionClient:\n",
    "    def __init__(self, visualiser):\n",
    "        # Initialize ROS node\n",
    "        rospy.init_node('ActionClient', anonymous=True)\n",
    "        # Assign the visualiser\n",
    "        self.visualiser = visualiser\n",
    "\n",
    "        # Create publishers and subscribers\n",
    "        self.pos_pub = rospy.Publisher('/robot_pos', pos, queue_size=1)\n",
    "        self.target_pub = rospy.Publisher('/target_coordinates', Point, queue_size=1)\n",
    "        rospy.Subscriber('/odom', Odometry, self.odom_callback)\n",
    "        \n",
    "        # Action client for goal setting\n",
    "        self.action_client = actionlib.SimpleActionClient('/reaching_goal', PlanningAction)\n",
    "        self.action_client.wait_for_server()\n",
    "\n",
    "        self.goal = PlanningGoal()\n",
    "\n",
    "    def odom_callback(self, data):\n",
    "        # Extract position\n",
    "        position = data.pose.pose.position\n",
    "        linear_velocity = data.twist.twist.linear\n",
    "        \n",
    "        # Update position data\n",
    "        pos_msg = pos()\n",
    "        pos_msg.x = position.x\n",
    "        pos_msg.y = position.y\n",
    "        pos_msg.vx = linear_velocity.x\n",
    "        pos_msg.vy = linear_velocity.y\n",
    "\n",
    "        self.pos_pub.publish(pos_msg)\n",
    "        self.visualiser.x_data.append(position.x)\n",
    "        self.visualiser.y_data.append(position.y)\n",
    "\n",
    "        \n",
    "    def reached_callback(self,state,reslt):\n",
    "        if state == GoalStatus.SUCCEEDED:\n",
    "             #increment the counter for reached goals\n",
    "            self.visualiser.reached_targets += 1\n",
    "            self.visualiser.unreached_targets -= 1\n",
    "            rospy.loginfo(\"Goal reached!\")\n",
    "            self.visualiser.reached_targets_positions.append((self.visualiser.target_x, self.visualiser.target_y))\n",
    "            self.visualiser.target_x, self.visualiser.target_y = None, None\n",
    "    \n",
    "    def set_goal(self, x, y):\n",
    "        self.goal.target_pose.pose.position.x = x\n",
    "        self.goal.target_pose.pose.position.y = y\n",
    "        self.action_client.send_goal(self.goal, done_cb=self.reached_callback)\n",
    "        \n",
    "        target_msg = Point()\n",
    "        target_msg.x = x\n",
    "        target_msg.y = y\n",
    "        self.target_pub.publish(target_msg)\n",
    "        \n",
    "        self.visualiser.target_x = x\n",
    "        self.visualiser.target_y = y\n",
    "        self.visualiser.unreached_targets += 1\n",
    "\n",
    "    def cancel_goal(self):\n",
    "        self.action_client.cancel_goal()\n",
    "        rospy.loginfo(\"Goal cancelled\")\n",
    "        self.visualiser.target_x = None\n",
    "        self.visualiser.target_y = None\n",
    "        self.visualiser.unreached_targets -= 1\n",
    "        "
   ]
  },
  {
   "cell_type": "markdown",
   "id": "74904ad7",
   "metadata": {},
   "source": [
    "## User Interface\n",
    "Set the goal coordinates and click \"Set Goal\" button.\n",
    "\n",
    "To cancel the goal, click \"Cancel Goal\" button.\n",
    "\n",
    "Here, there are two plots:\n",
    "- The left one displays the robot's motion and the target position.\n",
    "\n",
    "- The right one shows the status of the goals.\n",
    "\n"
   ]
  },
  {
   "cell_type": "code",
   "execution_count": 4,
   "id": "983a7bd0",
   "metadata": {
    "scrolled": true
   },
   "outputs": [
    {
     "data": {
      "application/vnd.jupyter.widget-view+json": {
       "model_id": "e65248efe2c44c79ae7c4a5c44daa78b",
       "version_major": 2,
       "version_minor": 0
      },
      "text/plain": [
       "FloatText(value=0.0, description='X:')"
      ]
     },
     "metadata": {},
     "output_type": "display_data"
    },
    {
     "data": {
      "application/vnd.jupyter.widget-view+json": {
       "model_id": "cf00eefd1d7f4999bf7479f4aaed5084",
       "version_major": 2,
       "version_minor": 0
      },
      "text/plain": [
       "FloatText(value=0.0, description='Y:')"
      ]
     },
     "metadata": {},
     "output_type": "display_data"
    },
    {
     "data": {
      "application/vnd.jupyter.widget-view+json": {
       "model_id": "15e08524c0774b75837cefd6740ddd54",
       "version_major": 2,
       "version_minor": 0
      },
      "text/plain": [
       "Button(description='Set Goal', style=ButtonStyle())"
      ]
     },
     "metadata": {},
     "output_type": "display_data"
    },
    {
     "data": {
      "application/vnd.jupyter.widget-view+json": {
       "model_id": "75a7a934243a42c4b33d1b3eb3e0650e",
       "version_major": 2,
       "version_minor": 0
      },
      "text/plain": [
       "Button(description='Cancel Goal', style=ButtonStyle())"
      ]
     },
     "metadata": {},
     "output_type": "display_data"
    },
    {
     "data": {
      "application/vnd.jupyter.widget-view+json": {
       "model_id": "62f0aecd4a394f6680272ca45c4ca382",
       "version_major": 2,
       "version_minor": 0
      },
      "image/png": "[encoded data removed]",
      "text/html": [
       "\n",
       "            <div style=\"display: inline-block;\">\n",
       "                <div class=\"jupyter-widgets widget-label\" style=\"text-align: center;\">\n",
       "                    Figure\n",
       "                </div>\n",
       "                <img src='data:image/png;base64,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' width=640.0/>\n",
       "            </div>\n",
       "        "
      ],
      "text/plain": [
       "Canvas(toolbar=Toolbar(toolitems=[('Home', 'Reset original view', 'home', 'home'), ('Back', 'Back to previous …"
      ]
     },
     "metadata": {},
     "output_type": "display_data"
    }
   ],
   "source": [
    "# Initialize the Visualiser\n",
    "visualiser = Visualiser()\n",
    "\n",
    "# Initialize the ActionClient with the visualiser\n",
    "client = ActionClient(visualiser)\n",
    "\n",
    "\n",
    "def update_robot_plot(frame):\n",
    "    visualiser.robot_ln.set_data(visualiser.x_data, visualiser.y_data)\n",
    "    if visualiser.target_x is not None and visualiser.target_y is not None:\n",
    "        visualiser.current_target_ln.set_data([visualiser.target_x], [visualiser.target_y])\n",
    "    else:\n",
    "        visualiser.current_target_ln.set_data([], [])\n",
    "    \n",
    "    if visualiser.reached_targets_positions:\n",
    "        x_reached, y_reached = zip(*visualiser.reached_targets_positions)\n",
    "        visualiser.reached_targets_ln.set_data(x_reached, y_reached)\n",
    "    else:\n",
    "        visualiser.reached_targets_ln.set_data([], [])\n",
    "    \n",
    "    return visualiser.robot_ln, visualiser.current_target_ln, visualiser.reached_targets_ln\n",
    "\n",
    "\n",
    "\n",
    "def update_status_plot(frame):\n",
    "    visualiser.reached_bar.set_height(visualiser.reached_targets)\n",
    "    visualiser.unreached_bar.set_height(visualiser.unreached_targets)\n",
    "    return visualiser.reached_bar, visualiser.unreached_bar\n",
    "    \n",
    "  \n",
    "\n",
    "\n",
    "# Create interactive widgets for user input\n",
    "x_widget = widgets.FloatText(description='X:')\n",
    "y_widget = widgets.FloatText(description='Y:')\n",
    "goal_button = widgets.Button(description='Set Goal')\n",
    "cancel_button = widgets.Button(description='Cancel Goal')\n",
    "\n",
    "def set_goal_action(button):\n",
    "    client.set_goal(x_widget.value, y_widget.value)\n",
    "\n",
    "def cancel_goal_action(button):\n",
    "    client.cancel_goal()\n",
    "\n",
    "goal_button.on_click(set_goal_action)\n",
    "cancel_button.on_click(cancel_goal_action)\n",
    "\n",
    "display(x_widget, y_widget, goal_button, cancel_button)\n",
    "\n",
    "# ani = FuncAnimation(visualiser.fig, update_robot_plot,init_func=visualiser.plot_init, blit=True)\n",
    "ani = FuncAnimation(visualiser.fig, update_robot_plot, init_func=visualiser.plot_init, frames=np.arange(0, 10, 1), blit=True, cache_frame_data=False)\n",
    "ani2 = FuncAnimation(visualiser.fig, update_status_plot, frames=np.arange(0, 10, 1), blit=False, cache_frame_data=False)\n",
    "\n",
    "# Show plots\n",
    "visualiser.show()"
   ]
  }
 ],
 "metadata": {
  "kernelspec": {
   "display_name": "Python 3 (ipykernel)",
   "language": "python",
   "name": "python3"
  },
  "language_info": {
   "codemirror_mode": {
    "name": "ipython",
    "version": 3
   },
   "file_extension": ".py",
   "mimetype": "text/x-python",
   "name": "python",
   "nbconvert_exporter": "python",
   "pygments_lexer": "ipython3",
   "version": "3.8.10"
  }
 },
 "nbformat": 4,
 "nbformat_minor": 5
}
